{
 "cells": [
  {
   "cell_type": "code",
   "execution_count": 3,
   "id": "cf828b82",
   "metadata": {},
   "outputs": [
    {
     "name": "stdout",
     "output_type": "stream",
     "text": [
      "Total number of votes cast: 369711\n"
     ]
    }
   ],
   "source": [
    "import csv\n",
    "\n",
    "# Initialize a variable to count the total number of votes cast\n",
    "total_votes = 0\n",
    "\n",
    "# Open the CSV file\n",
    "with open(\"Resources/election_data.csv\", 'r') as file:\n",
    "    reader = csv.DictReader(file)\n",
    "\n",
    "    # Iterate through the rows and count the votes\n",
    "    for row in reader:\n",
    "        total_votes += 1\n",
    "\n",
    "print(f'Total number of votes cast: {total_votes}')\n"
   ]
  },
  {
   "cell_type": "code",
   "execution_count": 4,
   "id": "1bb4f42d",
   "metadata": {},
   "outputs": [
    {
     "name": "stdout",
     "output_type": "stream",
     "text": [
      "List of candidates who received votes:\n",
      "Charles Casper Stockham\n",
      "Raymon Anthony Doane\n",
      "Diana DeGette\n"
     ]
    }
   ],
   "source": [
    "# Initialize a set to store the unique candidates\n",
    "candidates = set()\n",
    "\n",
    "# Open the CSV file\n",
    "with open(\"Resources/election_data.csv\", 'r') as file:\n",
    "    reader = csv.DictReader(file)\n",
    "\n",
    "    # Iterate through the rows and collect the candidates\n",
    "    for row in reader:\n",
    "        candidate = row[\"Candidate\"]\n",
    "        candidates.add(candidate)\n",
    "\n",
    "# Convert the set of candidates to a list\n",
    "candidate_list = list(candidates)\n",
    "\n",
    "print(\"List of candidates who received votes:\")\n",
    "for candidate in candidate_list:\n",
    "    print(candidate)\n"
   ]
  },
  {
   "cell_type": "code",
   "execution_count": 9,
   "id": "d7ad7c13",
   "metadata": {},
   "outputs": [
    {
     "name": "stdout",
     "output_type": "stream",
     "text": [
      "Percentage of votes for each candidate:\n",
      "Charles Casper Stockham: 23.049%\n",
      "Diana DeGette: 73.812%\n",
      "Raymon Anthony Doane: 3.139%\n"
     ]
    }
   ],
   "source": [
    "# Initialize a dictionary to store the vote counts for each candidate\n",
    "candidate_votes = {}\n",
    "\n",
    "# Initialize a variable to count the total number of votes\n",
    "total_votes = 0\n",
    "\n",
    "# Open the CSV file\n",
    "with open(\"Resources/election_data.csv\", 'r') as file:\n",
    "    reader = csv.DictReader(file)\n",
    "\n",
    "    # Iterate through the rows and count the votes for each candidate\n",
    "    for row in reader:\n",
    "        candidate = row[\"Candidate\"]\n",
    "        total_votes += 1\n",
    "        if candidate in candidate_votes:\n",
    "            candidate_votes[candidate] += 1\n",
    "        else:\n",
    "            candidate_votes[candidate] = 1\n",
    "\n",
    "# Calculate and print the percentage of votes for each candidate\n",
    "print(\"Percentage of votes for each candidate:\")\n",
    "for candidate, votes in candidate_votes.items():\n",
    "    percentage = (votes / total_votes) * 100\n",
    "    print(f\"{candidate}: {percentage:.3f}%\")\n"
   ]
  },
  {
   "cell_type": "code",
   "execution_count": 8,
   "id": "55c68bd1",
   "metadata": {},
   "outputs": [
    {
     "name": "stdout",
     "output_type": "stream",
     "text": [
      "Total number of votes each candidate won:\n",
      "Charles Casper Stockham: 85213 votes\n",
      "Diana DeGette: 272892 votes\n",
      "Raymon Anthony Doane: 11606 votes\n"
     ]
    }
   ],
   "source": [
    "# Initialize a dictionary to store the vote counts for each candidate\n",
    "candidate_votes = {}\n",
    "\n",
    "# Open the CSV file\n",
    "with open(\"Resources/election_data.csv\", 'r') as file:\n",
    "    reader = csv.DictReader(file)\n",
    "\n",
    "    # Iterate through the rows and count the votes for each candidate\n",
    "    for row in reader:\n",
    "        candidate = row[\"Candidate\"]\n",
    "        if candidate in candidate_votes:\n",
    "            candidate_votes[candidate] += 1\n",
    "        else:\n",
    "            candidate_votes[candidate] = 1\n",
    "\n",
    "# Print the total number of votes each candidate won\n",
    "print(\"Total number of votes each candidate won:\")\n",
    "for candidate, votes in candidate_votes.items():\n",
    "    print(f\"{candidate}: {votes} votes\")\n"
   ]
  },
  {
   "cell_type": "code",
   "execution_count": 10,
   "id": "575a7861",
   "metadata": {},
   "outputs": [
    {
     "name": "stdout",
     "output_type": "stream",
     "text": [
      "The winner by popular vote is Diana DeGette with 272892 votes.\n"
     ]
    }
   ],
   "source": [
    "# Initialize a dictionary to store the vote counts for each candidate\n",
    "candidate_votes = {}\n",
    "\n",
    "# Open the CSV file\n",
    "with open(\"Resources/election_data.csv\", 'r') as file:\n",
    "    reader = csv.DictReader(file)\n",
    "\n",
    "    # Iterate through the rows and count the votes for each candidate\n",
    "    for row in reader:\n",
    "        candidate = row[\"Candidate\"]\n",
    "        if candidate in candidate_votes:\n",
    "            candidate_votes[candidate] += 1\n",
    "        else:\n",
    "            candidate_votes[candidate] = 1\n",
    "\n",
    "# Find the winner by popular vote\n",
    "winner = max(candidate_votes, key=candidate_votes.get)\n",
    "total_votes_won = candidate_votes[winner]\n",
    "\n",
    "print(f\"The winner by popular vote is {winner} with {total_votes_won} votes.\")\n"
   ]
  },
  {
   "cell_type": "code",
   "execution_count": 11,
   "id": "36c40504",
   "metadata": {},
   "outputs": [
    {
     "name": "stdout",
     "output_type": "stream",
     "text": [
      "Election Results:\n",
      "-------------------------\n",
      "Total Votes: 369711\n",
      "-------------------------\n",
      "Charles Casper Stockham: 23.049% (85213)\n",
      "Diana DeGette: 73.812% (272892)\n",
      "Raymon Anthony Doane: 3.139% (11606)\n",
      "-------------------------\n",
      "Winner: Diana DeGette\n",
      "-------------------------\n",
      "Analysis has been saved to \"election_results.txt\"\n"
     ]
    }
   ],
   "source": [
    "## Putting everything together in a single code\n",
    "import csv\n",
    "\n",
    "# Initialize variables for analysis\n",
    "candidate_votes = {}\n",
    "total_votes = 0\n",
    "\n",
    "# Open the CSV file\n",
    "with open(\"Resources/election_data.csv\", 'r') as file:\n",
    "    reader = csv.DictReader(file)\n",
    "\n",
    "    # Iterate through the rows and count the votes for each candidate\n",
    "    for row in reader:\n",
    "        candidate = row[\"Candidate\"]\n",
    "        total_votes += 1\n",
    "        if candidate in candidate_votes:\n",
    "            candidate_votes[candidate] += 1\n",
    "        else:\n",
    "            candidate_votes[candidate] = 1\n",
    "\n",
    "# Find the winner by popular vote\n",
    "winner = max(candidate_votes, key=candidate_votes.get)\n",
    "total_votes_won = candidate_votes[winner]\n",
    "\n",
    "# Print the analysis to the terminal\n",
    "print(\"Election Results:\")\n",
    "print(\"-------------------------\")\n",
    "print(f'Total Votes: {total_votes}')\n",
    "print(\"-------------------------\")\n",
    "for candidate, votes in candidate_votes.items():\n",
    "    percentage = (votes / total_votes) * 100\n",
    "    print(f\"{candidate}: {percentage:.3f}% ({votes})\")\n",
    "print(\"-------------------------\")\n",
    "print(f'Winner: {winner}')\n",
    "print(\"-------------------------\")\n",
    "\n",
    "# Export the analysis to a text file\n",
    "with open('election_results.txt', 'w') as text_file:\n",
    "    text_file.write(\"Election Results:\\n\")\n",
    "    text_file.write(\"-------------------------\\n\")\n",
    "    text_file.write(f'Total Votes: {total_votes}\\n')\n",
    "    text_file.write(\"-------------------------\\n\")\n",
    "    for candidate, votes in candidate_votes.items():\n",
    "        percentage = (votes / total_votes) * 100\n",
    "        text_file.write(f\"{candidate}: {percentage:.3f}% ({votes})\\n\")\n",
    "    text_file.write(\"-------------------------\\n\")\n",
    "    text_file.write(f'Winner: {winner}\\n')\n",
    "    text_file.write(\"-------------------------\\n\")\n",
    "\n",
    "print('Analysis has been saved to \"election_results.txt\"')\n"
   ]
  },
  {
   "cell_type": "code",
   "execution_count": null,
   "id": "35446ab0",
   "metadata": {},
   "outputs": [],
   "source": []
  }
 ],
 "metadata": {
  "kernelspec": {
   "display_name": "Python [conda env:.conda-dev] *",
   "language": "python",
   "name": "conda-env-.conda-dev-py"
  },
  "language_info": {
   "codemirror_mode": {
    "name": "ipython",
    "version": 3
   },
   "file_extension": ".py",
   "mimetype": "text/x-python",
   "name": "python",
   "nbconvert_exporter": "python",
   "pygments_lexer": "ipython3",
   "version": "3.10.12"
  }
 },
 "nbformat": 4,
 "nbformat_minor": 5
}
