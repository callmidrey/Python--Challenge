{
 "cells": [
  {
   "cell_type": "code",
   "execution_count": 2,
   "id": "5380d337",
   "metadata": {},
   "outputs": [],
   "source": [
    "import os\n",
    "import csv"
   ]
  },
  {
   "cell_type": "code",
   "execution_count": 3,
   "id": "cf336712",
   "metadata": {},
   "outputs": [
    {
     "name": "stdout",
     "output_type": "stream",
     "text": [
      "Total Months: 86\n"
     ]
    }
   ],
   "source": [
    "import csv\n",
    "\n",
    "# Initialize a variable to count the number of months\n",
    "num_months = 0\n",
    "\n",
    "# Open the CSV file\n",
    "with open(\"Resources/budget_data.csv\", 'r') as file:\n",
    "    reader = csv.DictReader(file)\n",
    "    \n",
    "    # Iterate through the rows\n",
    "    for row in reader:\n",
    "        num_months += 1\n",
    "\n",
    "print(f'Total Months: {num_months}')"
   ]
  },
  {
   "cell_type": "code",
   "execution_count": 4,
   "id": "241d2d06",
   "metadata": {},
   "outputs": [
    {
     "name": "stdout",
     "output_type": "stream",
     "text": [
      "Net total amount of \"Profit/Losses\": $22564198\n"
     ]
    }
   ],
   "source": [
    "# Initialize a variable to store the net total\n",
    "net_total = 0\n",
    "\n",
    "# Open the CSV file\n",
    "with open(\"Resources/budget_data.csv\", 'r') as file:\n",
    "    reader = csv.DictReader(file)\n",
    "    \n",
    "    # Iterate through the rows\n",
    "    for row in reader:\n",
    "        profit_losses = int(row[\"Profit/Losses\"])\n",
    "        net_total += profit_losses\n",
    "\n",
    "print(f'Net total amount of \"Profit/Losses\": ${net_total}')"
   ]
  },
  {
   "cell_type": "code",
   "execution_count": 5,
   "id": "abf1bc88",
   "metadata": {},
   "outputs": [
    {
     "name": "stdout",
     "output_type": "stream",
     "text": [
      "Average of the changes: $-8311.11\n"
     ]
    }
   ],
   "source": [
    "# Initialize variables\n",
    "changes = []\n",
    "previous_profit_loss = None\n",
    "\n",
    "# Open the CSV file\n",
    "with open(\"Resources/budget_data.csv\", 'r') as file:\n",
    "    reader = csv.DictReader(file)\n",
    "    \n",
    "    # Iterate through the rows\n",
    "    for row in reader:\n",
    "        profit_losses = int(row[\"Profit/Losses\"])\n",
    "        \n",
    "        if previous_profit_loss is not None:\n",
    "            change = profit_losses - previous_profit_loss\n",
    "            changes.append(change)\n",
    "        \n",
    "        previous_profit_loss = profit_losses\n",
    "\n",
    "# Calculate the average of the changes\n",
    "average_change = sum(changes) / len(changes)\n",
    "\n",
    "print(f'Average of the changes: ${average_change:.2f}')\n"
   ]
  },
  {
   "cell_type": "code",
   "execution_count": 6,
   "id": "78878f58",
   "metadata": {},
   "outputs": [
    {
     "name": "stdout",
     "output_type": "stream",
     "text": [
      "Greatest increase in profit: Aug-16 ($1862002)\n"
     ]
    }
   ],
   "source": [
    "# Initialize variables to track the greatest increase and its date\n",
    "greatest_increase = {\"date\": None, \"amount\": 0}\n",
    "previous_profit_losses = None\n",
    "\n",
    "# Open the CSV file\n",
    "with open(\"Resources/budget_data.csv\", 'r') as file:\n",
    "    reader = csv.DictReader(file)\n",
    "    \n",
    "    # Iterate through the rows\n",
    "    for row in reader:\n",
    "        profit_losses = int(row[\"Profit/Losses\"])\n",
    "        date = row[\"Date\"]\n",
    "        \n",
    "        if previous_profit_losses is not None:\n",
    "            change = profit_losses - previous_profit_losses\n",
    "            if change > greatest_increase[\"amount\"]:\n",
    "                greatest_increase[\"date\"] = date\n",
    "                greatest_increase[\"amount\"] = change\n",
    "        \n",
    "        previous_profit_losses = profit_losses\n",
    "\n",
    "print(f'Greatest increase in profit:', f'{greatest_increase[\"date\"]}', f'(${greatest_increase[\"amount\"]})')\n"
   ]
  },
  {
   "cell_type": "code",
   "execution_count": 7,
   "id": "107b6dd3",
   "metadata": {},
   "outputs": [
    {
     "name": "stdout",
     "output_type": "stream",
     "text": [
      "Greatest derease in profit: Feb-14 ($-1825558)\n"
     ]
    }
   ],
   "source": [
    "# Initialize variables to track the greatest increase and its date\n",
    "greatest_decrease = {\"date\": None, \"amount\": 0}\n",
    "previous_profit_losses = None\n",
    "\n",
    "# Open the CSV file\n",
    "with open(\"Resources/budget_data.csv\", 'r') as file:\n",
    "    reader = csv.DictReader(file)\n",
    "    \n",
    "    # Iterate through the rows\n",
    "    for row in reader:\n",
    "        profit_losses = int(row[\"Profit/Losses\"])\n",
    "        date = row[\"Date\"]\n",
    "        \n",
    "        if previous_profit_losses is not None:\n",
    "            change = profit_losses - previous_profit_losses\n",
    "            if change < greatest_decrease[\"amount\"]:\n",
    "                greatest_decrease[\"date\"] = date\n",
    "                greatest_decrease[\"amount\"] = change\n",
    "        \n",
    "        previous_profit_losses = profit_losses\n",
    "\n",
    "P_d_Profit = f'Greatest derease in profit:', f'{greatest_decrease[\"date\"]}', f'(${greatest_decrease[\"amount\"]})'\n",
    "print(f'Greatest derease in profit:', f'{greatest_decrease[\"date\"]}', f'(${greatest_decrease[\"amount\"]})')"
   ]
  },
  {
   "cell_type": "code",
   "execution_count": 8,
   "id": "d65555da",
   "metadata": {},
   "outputs": [
    {
     "name": "stdout",
     "output_type": "stream",
     "text": [
      "Financial Analysis: \n",
      "Total Months: 86\n",
      "Average of the changes: $-8311.11\n",
      "Greatest increase in profit: Aug-16 ($1862002)\n",
      "Greatest derease in profit: Feb-14 ($1862002)\n",
      "Analysis has been saved to \"financial_analysis.txt\"\n"
     ]
    }
   ],
   "source": [
    "# Print the analysis to the terminal\n",
    "print(\"Financial Analysis: \")\n",
    "print(f'Total Months: {num_months}')\n",
    "print(f'Average of the changes: ${average_change:.2f}')\n",
    "print(f'Greatest increase in profit:', f'{greatest_increase[\"date\"]}', f'(${greatest_increase[\"amount\"]})')\n",
    "print(f'Greatest derease in profit:', f'{greatest_decrease[\"date\"]}', f'(${greatest_increase[\"amount\"]})')\n",
    "\n",
    "\n",
    "# Export the analysis to a text file\n",
    "with open('financial_analysis.txt', 'w') as output_file:\n",
    "    output_file.write(f'Total Months: {num_months}\\n')\n",
    "    output_file.write(f'Net Total : ${net_total}\\n')\n",
    "    output_file.write(f'Average of the changes: ${average_change:.2f}\\n')\n",
    "    output_file.write(f'Greatest increase in profit: \\n')\n",
    "    output_file.write(f'{greatest_increase[\"date\"]}\\n')\n",
    "    output_file.write(f'(${greatest_increase[\"amount\"]})\\n')\n",
    "    output_file.write(f'Greatest decrease in profit: \\n')\n",
    "    output_file.write(f'{greatest_decrease[\"date\"]}\\n')\n",
    "    output_file.write(f'(${greatest_decrease[\"amount\"]})\\n')\n",
    "\n",
    "print('Analysis has been saved to \"financial_analysis.txt\"')"
   ]
  },
  {
   "cell_type": "code",
   "execution_count": 1,
   "id": "ca4f29c0",
   "metadata": {},
   "outputs": [
    {
     "ename": "NameError",
     "evalue": "name 'csv' is not defined",
     "output_type": "error",
     "traceback": [
      "\u001b[1;31m---------------------------------------------------------------------------\u001b[0m",
      "\u001b[1;31mNameError\u001b[0m                                 Traceback (most recent call last)",
      "Cell \u001b[1;32mIn[1], line 11\u001b[0m\n\u001b[0;32m      9\u001b[0m \u001b[38;5;66;03m# Open the CSV file\u001b[39;00m\n\u001b[0;32m     10\u001b[0m \u001b[38;5;28;01mwith\u001b[39;00m \u001b[38;5;28mopen\u001b[39m(\u001b[38;5;124m\"\u001b[39m\u001b[38;5;124mResources/budget_data.csv\u001b[39m\u001b[38;5;124m\"\u001b[39m, \u001b[38;5;124m'\u001b[39m\u001b[38;5;124mr\u001b[39m\u001b[38;5;124m'\u001b[39m) \u001b[38;5;28;01mas\u001b[39;00m file:\n\u001b[1;32m---> 11\u001b[0m     reader \u001b[38;5;241m=\u001b[39m \u001b[43mcsv\u001b[49m\u001b[38;5;241m.\u001b[39mDictReader(file)\n\u001b[0;32m     13\u001b[0m     \u001b[38;5;66;03m# Iterate through the rows\u001b[39;00m\n\u001b[0;32m     14\u001b[0m     previous_profit_losses \u001b[38;5;241m=\u001b[39m \u001b[38;5;28;01mNone\u001b[39;00m\n",
      "\u001b[1;31mNameError\u001b[0m: name 'csv' is not defined"
     ]
    }
   ],
   "source": [
    "##Summarizing all the code anbove into one code\n",
    "# Initialize variables for analysis\n",
    "total_months = 0\n",
    "net_total = 0\n",
    "changes = []\n",
    "greatest_increase = {\"date\": \"\", \"amount\": 0}\n",
    "greatest_decrease = {\"date\": \"\", \"amount\": 0}\n",
    "\n",
    "# Open the CSV file\n",
    "with open(\"Resources/budget_data.csv\", 'r') as file:\n",
    "    reader = csv.DictReader(file)\n",
    "\n",
    "    # Iterate through the rows\n",
    "    previous_profit_losses = None\n",
    "    for row in reader:\n",
    "        date = row[\"Date\"]\n",
    "        profit_losses = int(row[\"Profit/Losses\"])\n",
    "        total_months += 1\n",
    "        net_total += profit_losses\n",
    "\n",
    "        # Calculate changes in profit/losses and track the greatest increase and decrease\n",
    "        if previous_profit_losses is not None:\n",
    "            change = profit_losses - previous_profit_losses\n",
    "            changes.append(change)\n",
    "            if change > greatest_increase[\"amount\"]:\n",
    "                greatest_increase[\"date\"] = date\n",
    "                greatest_increase[\"amount\"] = change\n",
    "            if change < greatest_decrease[\"amount\"]:\n",
    "                greatest_decrease[\"date\"] = date\n",
    "                greatest_decrease[\"amount\"] = change\n",
    "\n",
    "        previous_profit_losses = profit_losses\n",
    "\n",
    "# Calculate the average of the changes\n",
    "average_change = sum(changes) / len(changes)\n",
    "\n",
    "# Print the analysis to the terminal\n",
    "print(\"Financial Analysis:\")\n",
    "print(\"-------------------------\\n\")\n",
    "print(f'Total Months: {total_months}')\n",
    "print(f'Net Total: ${net_total}')\n",
    "print(f'Average Change: ${average_change:.2f}')\n",
    "print(f'Greatest increase in profit:', f'{greatest_increase[\"date\"]}', f'(${greatest_increase[\"amount\"]})')\n",
    "print(f'Greatest derease in profit:', f'{greatest_decrease[\"date\"]}', f'(${greatest_increase[\"amount\"]})')\n",
    "\n",
    "# Export the analysis to a text file\n",
    "with open('financial_analysis.txt', 'w') as text_file:\n",
    "    text_file.write(\"Financial Analysis:\\n\")\n",
    "    text_file.write(f'Total Months: {total_months}\\n')\n",
    "    text_file.write(f'Net Total: ${net_total}\\n')\n",
    "    text_file.write(f'Average Change: ${average_change:.2f}\\n')\n",
    "    text_file.write(f'Greatest Increase in Profits:\\n')\n",
    "    text_file.write(f'Date: {greatest_increase[\"date\"]}\\n')\n",
    "    text_file.write(f'Amount: ${greatest_increase[\"amount\"]}\\n')\n",
    "    text_file.write(f'Greatest Decrease in Profits:\\n')\n",
    "    text_file.write(f'Date: {greatest_decrease[\"date\"]}\\n')\n",
    "    text_file.write(f'Amount: ${greatest_decrease[\"amount\"]}\\n')\n",
    "\n",
    "print('Analysis has been saved to \"financial_analysis.txt\"')\n"
   ]
  },
  {
   "cell_type": "code",
   "execution_count": null,
   "id": "f5014b40",
   "metadata": {},
   "outputs": [],
   "source": []
  }
 ],
 "metadata": {
  "kernelspec": {
   "display_name": "Python [conda env:.conda-dev] *",
   "language": "python",
   "name": "conda-env-.conda-dev-py"
  },
  "language_info": {
   "codemirror_mode": {
    "name": "ipython",
    "version": 3
   },
   "file_extension": ".py",
   "mimetype": "text/x-python",
   "name": "python",
   "nbconvert_exporter": "python",
   "pygments_lexer": "ipython3",
   "version": "3.10.12"
  }
 },
 "nbformat": 4,
 "nbformat_minor": 5
}
